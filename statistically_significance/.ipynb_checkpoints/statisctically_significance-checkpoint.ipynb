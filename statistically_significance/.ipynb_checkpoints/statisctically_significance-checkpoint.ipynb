{
 "cells": [
  {
   "cell_type": "code",
   "execution_count": 1,
   "metadata": {},
   "outputs": [],
   "source": []
  },
  {
   "cell_type": "code",
   "execution_count": 2,
   "metadata": {},
   "outputs": [
    {
     "name": "stdout",
     "output_type": "stream",
     "text": [
      "3.7.4\n"
     ]
    }
   ],
   "source": [
    "from platform import python_version\n",
    "\n",
    "print(python_version())"
   ]
  },
  {
   "cell_type": "code",
   "execution_count": 3,
   "metadata": {},
   "outputs": [
    {
     "name": "stderr",
     "output_type": "stream",
     "text": [
      "INFO:__main__:Loading cached data...\n",
      "INFO:numexpr.utils:NumExpr defaulting to 8 threads.\n",
      "INFO:__main__:Loading cached data...\n",
      "INFO:__main__:Done loading data...\n"
     ]
    }
   ],
   "source": [
    "import sys\n",
    "# Add the path to system, local or mounted S3 bucket, e.g. /dbfs/mnt/<path_to_bucket>\n",
    "sys.path.append('./secrets.py')\n",
    "\n",
    "import logging\n",
    "import math\n",
    "import os\n",
    "\n",
    "from influxdb import DataFrameClient\n",
    "import numpy as np\n",
    "import matplotlib.mlab as mlab\n",
    "import pandas as pd\n",
    "import matplotlib.pyplot as plt\n",
    "from tabulate import tabulate\n",
    "from tqdm import tqdm\n",
    "%matplotlib inline\n",
    "\n",
    "logging.basicConfig(level=logging.INFO)\n",
    "LOGGER = logging.getLogger(__name__)\n",
    "\n",
    "# Need to ssh tunnel for this to work\n",
    "# ssh -L 8086:localhost:8086 aq.byu.edu -N\n",
    "influx = DataFrameClient(\n",
    "    host=HOST,\n",
    "    port=PORT,\n",
    "    username=USERNAME,\n",
    "    password=PASSWORD,\n",
    "    database=DATABASE,\n",
    ")\n",
    "\n",
    "\n",
    "def large_query(influx, measurement, query, total=None, limit=100_000):\n",
    "    if total is not None:\n",
    "        total = math.ceil(total / limit)\n",
    "\n",
    "    with tqdm(total=total) as pbar:\n",
    "        offset = 0\n",
    "        while True:\n",
    "            new_query = query + \" LIMIT {} OFFSET {}\".format(limit, offset)\n",
    "            data = influx.query(new_query)\n",
    "            data = data[measurement]\n",
    "\n",
    "            received = len(data)\n",
    "            pbar.update(1)\n",
    "\n",
    "            yield data\n",
    "\n",
    "            offset += limit\n",
    "            if received != limit:\n",
    "                break\n",
    "\n",
    "\n",
    "def load_data(filename):\n",
    "    if os.path.exists(filename):\n",
    "        LOGGER.info(\"Loading cached data...\")\n",
    "        return pd.read_hdf(filename)\n",
    "\n",
    "    LOGGER.info(\"Downloading data...\")\n",
    "    result = influx.query(\n",
    "        \"SELECT COUNT(sequence) FROM air_quality_sensor WHERE time > '2019-10-01' AND time <= now()\"\n",
    "    )\n",
    "    count = result[\"air_quality_sensor\"].values[0][0]\n",
    "\n",
    "    queries = large_query(\n",
    "        influx,\n",
    "        \"air_quality_sensor\",\n",
    "        \"SELECT * FROM air_quality_sensor WHERE time > '2019-10-01' AND time <= now()\",\n",
    "        count,\n",
    "    )\n",
    "\n",
    "    all_data = pd.concat(list(queries), sort=False)\n",
    "    all_data.to_hdf(filename, \"data\")\n",
    "    return all_data\n",
    "\n",
    "\n",
    "data = load_data(\"aq_data.h5\")\n",
    "gold_data = load_data(\"aq_data.h5\")\n",
    "\n",
    "LOGGER.info(\"Done loading data...\")\n",
    "\n"
   ]
  },
  {
   "cell_type": "code",
   "execution_count": 4,
   "metadata": {},
   "outputs": [
    {
     "name": "stdout",
     "output_type": "stream",
     "text": [
      "2019-11-04 00:00:02+00:00\n",
      "2019-11-04 08:00:02+08:00\n"
     ]
    },
    {
     "data": {
      "image/png": "[encoded data removed]",
      "text/plain": [
       "<Figure size 432x288 with 1 Axes>"
      ]
     },
     "metadata": {
      "needs_background": "light"
     },
     "output_type": "display_data"
    }
   ],
   "source": [
    "# all_modified_gers - This is the working boxplot for all_modified_gers only Mongolia deployed sensors\n",
    "# https://stackoverflow.com/questions/22800079/converting-time-zone-pandas-dataframe\n",
    "# https://pandas.pydata.org/pandas-docs/version/0.23.4/generated/pandas.DataFrame.between_time.html\n",
    "\n",
    "# Don't include sensors: FL, IA, KS, MB, NB, NJ, NL, OR, WA, WY\n",
    "# Look more closely at: NE, NS\n",
    "\n",
    "from IPython.core.debugger import set_trace \n",
    "# https://matplotlib.org/3.1.3/gallery/statistics/boxplot_color.html \n",
    "print(data.index[1])\n",
    "data.index = data.index.tz_convert('Asia/Ulaanbaatar')\n",
    "print(data.index[1])\n",
    "\n",
    "labels = ['All Modified Gers']\n",
    "plt.xlabel('')\n",
    "plt.ylabel('PM 2.5 Value')\n",
    "plt.title('Week PM 2.5 for All Modified Gers Sensors')\n",
    "plt.grid(True)\n",
    "days = ['05', '06', '07', '08', '09', '10', '11']\n",
    "\n",
    "# Clean up data this way:\n",
    "data.loc[data['pm2_5'] > 1000, 'pm2_5'] = 1000\n",
    "data.loc[data['pm2_5'] < 0, 'pm2_5'] = 0\n",
    "# https://www.geeksforgeeks.org/create-a-new-column-in-pandas-dataframe-based-on-the-existing-columns/\n",
    "data['pm2_5'] = data['pm2_5'] / (1 + ((0.4/1.65)/(-1+(1/(35/100)))))\n",
    "# data['pm2_5'] = np.where(data['pm2_5'] >= 5000, 5000, data['pm2_5'])\n",
    "\n",
    "data = data[data.location_name == 'Mongolia']\n",
    "\n",
    "# start clean up data mode when in office or switched from outdoor to indoor or vice versa\n",
    "\n",
    "# -------------------------- In Office ----------------------------------------------------------------------------------------------------------------------------\n",
    "ak = data[data.index < '2020-02-15'].groupby(\"name\").get_group('AK')\n",
    "co = data[data.index < '2020-02-15'].groupby(\"name\").get_group('CO')\n",
    "ky = data[data.index < '2020-02-15'].groupby(\"name\").get_group('KY')\n",
    "\n",
    "# mb = data[data.index < '2020-02-15'].groupby(\"name\").get_group('MB')\n",
    "# mb = mb[(mb.index < '2020-01-26') | (mb.index >= '2020-02-04')]\n",
    "\n",
    "# nj = data[(data.index < '2020-01-28') | (data.index >= '2020-02-04')].groupby(\"name\").get_group('NJ')\n",
    "nu = data[(data.index < '2020-01-26') | (data.index >= '2020-02-04')].groupby(\"name\").get_group('NU')\n",
    "# oregon = data[(data.index < '2020-01-26') | (data.index >= '2020-02-04')].groupby(\"name\").get_group('OR')\n",
    "pe = data[(data.index < '2020-02-11')].groupby(\"name\").get_group('PE') #outdoor sensor we are no longer using these sensors data\n",
    "# wy = data[(data.index < '2020-02-11')].groupby(\"name\").get_group('WY') \n",
    "\n",
    "# --------------------------------------- Switched ---------------------------------------------------------------------------------------------------------------\n",
    "\n",
    "ab = data[(data.index > '2020-01-28') & (data.index <= '2020-02-14')].groupby(\"name\").get_group('AB') # outdoor sensor we are no longer using these sensors data before but will use after the switch to indoor\n",
    "ns = data[(data.index >= '2020-01-28')].groupby(\"name\").get_group('NS') # outdoor sensor we are no longer using these sensors data before but will use after the switch to indoor\n",
    "# oregon = oregon[(oregon.index >= '2020-01-28')] # outdoor sensor we are no longer using these sensors data before but will use after the switch to indoor\n",
    "ut = data[(data.index >= '2020-01-29')].groupby(\"name\").get_group('UT') # outdoor sensor we are no longer using these sensors data before but will use after the switch to indoor\n",
    "\n",
    "# finish clean up data mode when in office or switched from outdoor to indoor or vice versa\n",
    "# ------------------------------------------------------------------------------------------------------------------------------------------------------\n",
    "\n",
    "modified_gers = ['AL', 'AR', 'AZ', 'CA', 'CT', 'DE', 'ID', 'IL', 'LA', 'MA', 'MD', 'ME', 'MI', 'MN', 'MS', 'MT', 'NC', 'NH', 'NM', 'GA', 'ND', 'NE']\n",
    "modified_gers_data = data[(data.name == modified_gers[0]) | (data.name == modified_gers[1]) | (data.name == modified_gers[2]) | (data.name == modified_gers[3]) | (data.name == modified_gers[4]) | (data.name == modified_gers[5]) | (data.name == modified_gers[6]) | (data.name == modified_gers[7]) | (data.name == modified_gers[8]) | (data.name == modified_gers[9]) | (data.name == modified_gers[10]) | (data.name == modified_gers[11]) | (data.name == modified_gers[12]) | (data.name == modified_gers[13]) | (data.name == modified_gers[14]) | (data.name == modified_gers[15]) | (data.name == modified_gers[16]) | (data.name == modified_gers[17]) | (data.name == modified_gers[18]) | (data.name == modified_gers[19]) | (data.name == modified_gers[20]) | (data.name == modified_gers[21])]\n",
    "modified_gers_data = modified_gers_data.append(ak)\n",
    "modified_gers_data = modified_gers_data.append(co)\n",
    "modified_gers_data = modified_gers_data.append(ky)\n",
    "# unmodified_gers = ['NJ', 'NS', 'NU', 'OK', 'OR', 'PA', 'RI', 'SD', 'UT', 'VA', 'WI']\n",
    "# unmodified_gers_data = data[(data.name == unmodified_gers[0]) | (data.name == unmodified_gers[1]) | (data.name == unmodified_gers[2]) | (data.name == unmodified_gers[3]) | (data.name == unmodified_gers[4]) | (data.name == unmodified_gers[5]) | (data.name == unmodified_gers[6]) | (data.name == unmodified_gers[7]) | (data.name == unmodified_gers[8]) | (data.name == unmodified_gers[9]) | (data.name == unmodified_gers[10])]\n",
    "\n",
    "unmodified_gers = ['OK', 'PA', 'RI', 'SD', 'VA', 'WI']\n",
    "unmodified_gers_data = data[(data.name == unmodified_gers[0]) | (data.name == unmodified_gers[1]) | (data.name == unmodified_gers[2]) | (data.name == unmodified_gers[3]) | (data.name == unmodified_gers[4]) | (data.name == unmodified_gers[5])]\n",
    "unmodified_gers_data = unmodified_gers_data.append(ab)\n",
    "# unmodified_gers_data = unmodified_gers_data.append(mb)\n",
    "# unmodified_gers_data = unmodified_gers_data.append(nj)\n",
    "unmodified_gers_data = unmodified_gers_data.append(nu)\n",
    "unmodified_gers_data = unmodified_gers_data.append(ns)\n",
    "# unmodified_gers_data = unmodified_gers_data.append(oregon)\n",
    "unmodified_gers_data = unmodified_gers_data.append(ut)\n",
    "\n",
    "\n"
   ]
  },
  {
   "cell_type": "code",
   "execution_count": 5,
   "metadata": {},
   "outputs": [
    {
     "name": "stdout",
     "output_type": "stream",
     "text": [
      "t = -0.035429025072433465\n",
      "p = 1.027872414645874\n",
      "t = -12.1122043512766\n",
      "p = 9.122727244933069e-34\n"
     ]
    }
   ],
   "source": [
    "\n",
    "## Import the packages\n",
    "import numpy as np\n",
    "from scipy import stats\n",
    "\n",
    "\n",
    "## Define 2 random distributions\n",
    "#Sample Size\n",
    "N = 10\n",
    "#Gaussian distributed data with mean = 2 and var = 1\n",
    "# a = np.random.randn(N) + 2\n",
    "a = modified_gers_data.pm2_5.dropna()[0:1162704]\n",
    "#Gaussian distributed data with with mean = 0 and var = 1\n",
    "# b = np.random.randn(N)\n",
    "b = unmodified_gers_data.pm2_5.dropna()\n",
    "\n",
    "\n",
    "## Calculate the Standard Deviation\n",
    "#Calculate the variance to get the standard deviation\n",
    "\n",
    "#For unbiased max likelihood estimate we have to divide the var by N-1, and therefore the parameter ddof = 1\n",
    "var_a = a.var(ddof=1)\n",
    "var_b = b.var(ddof=1)\n",
    "\n",
    "#std deviation\n",
    "s = np.sqrt((var_a + var_b)/2)\n",
    "s\n",
    "\n",
    "\n",
    "\n",
    "## Calculate the t-statistics\n",
    "t = (a.mean() - b.mean())/(s*np.sqrt(2/N))\n",
    "\n",
    "\n",
    "\n",
    "## Compare with the critical t-value\n",
    "#Degrees of freedom\n",
    "df = 2*N - 2\n",
    "\n",
    "#p-value after comparison with the t \n",
    "p = 1 - stats.t.cdf(t,df=df)\n",
    "\n",
    "\n",
    "print(\"t = \" + str(t))\n",
    "print(\"p = \" + str(2*p))\n",
    "### You can see that after comparing the t statistic with the critical t value (computed internally) we get a good p value of 0.0005 and thus we reject the null hypothesis and thus it proves that the mean of the two distributions are different and statistically significant.\n",
    "\n",
    "\n",
    "## Cross Checking with the internal scipy function\n",
    "t2, p2 = stats.ttest_ind(a,b)\n",
    "print(\"t = \" + str(t2))\n",
    "print(\"p = \" + str(p2))\n"
   ]
  },
  {
   "cell_type": "code",
   "execution_count": 6,
   "metadata": {
    "scrolled": false
   },
   "outputs": [
    {
     "name": "stdout",
     "output_type": "stream",
     "text": [
      "3639836 and 1176227 ,modified sliced:  1176227\n",
      "the x and y are the same length\n",
      "correlation and p-value\n"
     ]
    },
    {
     "data": {
      "text/plain": [
       "(0.00161373654772432, 0.0800905179724076)"
      ]
     },
     "execution_count": 6,
     "metadata": {},
     "output_type": "execute_result"
    }
   ],
   "source": [
    "# good reference for pands stat significance: https://stackoverflow.com/questions/25571882/pandas-columns-correlation-with-statistical-significance\n",
    "# https://realpython.com/numpy-scipy-pandas-correlation-python/\n",
    "# https://realpython.com/python-statistics/\n",
    "# https://dataschool.com/fundamentals-of-analysis/correlation-and-p-value/\n",
    "# https://blog.minitab.com/blog/alphas-p-values-confidence-intervals-oh-my\n",
    "# https://www.thoughtco.com/the-difference-between-alpha-and-p-values-3126420\n",
    "\n",
    "# Difference Between P-Value and Alpha\n",
    "# To determine if an observed outcome is statistically significant, we compare the values of alpha and the p-value. There are two possibilities that emerge:\n",
    "\n",
    "# The p-value is less than or equal to alpha. In this case, we reject the null hypothesis. When this happens, we say that the result is statistically significant. In other words, we are reasonably sure that there is something besides chance alone that gave us an observed sample.\n",
    "# The p-value is greater than alpha. In this case, we fail to reject the null hypothesis. When this happens, we say that the result is not statistically significant. In other words, we are reasonably sure that our observed data can be explained by chance alone.\n",
    "\n",
    "from scipy.stats import pearsonr\n",
    "print (len(modified_gers_data.pm2_5.dropna()), 'and', len(unmodified_gers_data.pm2_5.dropna()), ',modified sliced: ', len(modified_gers_data.pm2_5.dropna()[0:1176227]))\n",
    "if len(modified_gers_data.pm2_5.dropna()[0:1176227]) == len(unmodified_gers_data.pm2_5.dropna()):\n",
    "    print ('the x and y are the same length')\n",
    "print ('correlation and p-value')\n",
    "pearsonr(modified_gers_data.pm2_5.dropna()[0:1176227], unmodified_gers_data.pm2_5.dropna())\n"
   ]
  },
  {
   "cell_type": "code",
   "execution_count": null,
   "metadata": {},
   "outputs": [],
   "source": []
  }
 ],
 "metadata": {
  "kernelspec": {
   "display_name": "Python 3",
   "language": "python",
   "name": "python3"
  },
  "language_info": {
   "codemirror_mode": {
    "name": "ipython",
    "version": 3
   },
   "file_extension": ".py",
   "mimetype": "text/x-python",
   "name": "python",
   "nbconvert_exporter": "python",
   "pygments_lexer": "ipython3",
   "version": "3.7.4"
  }
 },
 "nbformat": 4,
 "nbformat_minor": 2
}
