{
 "cells": [
  {
   "cell_type": "code",
   "execution_count": 1,
   "metadata": {},
   "outputs": [],
   "source": []
  },
  {
   "cell_type": "code",
   "execution_count": 2,
   "metadata": {},
   "outputs": [
    {
     "name": "stdout",
     "output_type": "stream",
     "text": [
      "3.7.4\n"
     ]
    }
   ],
   "source": [
    "from platform import python_version\n",
    "\n",
    "print(python_version())"
   ]
  },
  {
   "cell_type": "code",
   "execution_count": 3,
   "metadata": {},
   "outputs": [
    {
     "name": "stderr",
     "output_type": "stream",
     "text": [
      "INFO:__main__:Loading cached data...\n",
      "INFO:numexpr.utils:NumExpr defaulting to 8 threads.\n",
      "INFO:__main__:Loading cached data...\n",
      "INFO:__main__:Done loading data...\n"
     ]
    }
   ],
   "source": [
    "import sys\n",
    "# Add the path to system, local or mounted S3 bucket, e.g. /dbfs/mnt/<path_to_bucket>\n",
    "sys.path.append('./secrets.py')\n",
    "\n",
    "import logging\n",
    "import math\n",
    "import os\n",
    "\n",
    "from influxdb import DataFrameClient\n",
    "import numpy as np\n",
    "import matplotlib.mlab as mlab\n",
    "import pandas as pd\n",
    "import matplotlib.pyplot as plt\n",
    "from tabulate import tabulate\n",
    "from tqdm import tqdm\n",
    "%matplotlib inline\n",
    "\n",
    "logging.basicConfig(level=logging.INFO)\n",
    "LOGGER = logging.getLogger(__name__)\n",
    "\n",
    "# Need to ssh tunnel for this to work\n",
    "# ssh -L 8086:localhost:8086 aq.byu.edu -N\n",
    "influx = DataFrameClient(\n",
    "    host=HOST,\n",
    "    port=PORT,\n",
    "    username=USERNAME,\n",
    "    password=PASSWORD,\n",
    "    database=DATABASE,\n",
    ")\n",
    "\n",
    "\n",
    "def large_query(influx, measurement, query, total=None, limit=100_000):\n",
    "    if total is not None:\n",
    "        total = math.ceil(total / limit)\n",
    "\n",
    "    with tqdm(total=total) as pbar:\n",
    "        offset = 0\n",
    "        while True:\n",
    "            new_query = query + \" LIMIT {} OFFSET {}\".format(limit, offset)\n",
    "            data = influx.query(new_query)\n",
    "            data = data[measurement]\n",
    "\n",
    "            received = len(data)\n",
    "            pbar.update(1)\n",
    "\n",
    "            yield data\n",
    "\n",
    "            offset += limit\n",
    "            if received != limit:\n",
    "                break\n",
    "\n",
    "\n",
    "def load_data(filename):\n",
    "    if os.path.exists(filename):\n",
    "        LOGGER.info(\"Loading cached data...\")\n",
    "        return pd.read_hdf(filename)\n",
    "\n",
    "    LOGGER.info(\"Downloading data...\")\n",
    "    result = influx.query(\n",
    "        \"SELECT COUNT(sequence) FROM air_quality_sensor WHERE time > '2019-10-01' AND time <= now()\"\n",
    "    )\n",
    "    count = result[\"air_quality_sensor\"].values[0][0]\n",
    "\n",
    "    queries = large_query(\n",
    "        influx,\n",
    "        \"air_quality_sensor\",\n",
    "        \"SELECT * FROM air_quality_sensor WHERE time > '2019-10-01' AND time <= now()\",\n",
    "        count,\n",
    "    )\n",
    "\n",
    "    all_data = pd.concat(list(queries), sort=False)\n",
    "    all_data.to_hdf(filename, \"data\")\n",
    "    return all_data\n",
    "\n",
    "\n",
    "data = load_data(\"aq_data.h5\")\n",
    "gold_data = load_data(\"aq_data.h5\")\n",
    "\n",
    "LOGGER.info(\"Done loading data...\")\n",
    "\n"
   ]
  },
  {
   "cell_type": "code",
   "execution_count": 7,
   "metadata": {},
   "outputs": [
    {
     "name": "stdout",
     "output_type": "stream",
     "text": [
      "2019-11-04 08:00:02+08:00\n",
      "2019-11-04 08:00:02+08:00\n",
      "All Sensors names: ['GA', 'ND', 'NE']\n",
      "<class 'pandas.core.indexes.base.Index'>\n",
      "Index(['Monday', 'Monday', 'Monday', 'Monday', 'Monday', 'Monday', 'Monday',\n",
      "       'Monday', 'Monday', 'Monday'],\n",
      "      dtype='object')\n",
      "All Heater Only Modified Gers list size: 554153\n",
      "whiskers:  [0.0, 438.0]\n",
      "caps:  [0.0, 438.0]\n",
      "boxes:  [18.0]\n",
      "medians:  [76.0]\n",
      "means:  [138.67418023542234]\n",
      "fliers:  []\n"
     ]
    },
    {
     "data": {
      "image/png": "[encoded data removed]",
      "text/plain": [
       "<Figure size 432x288 with 1 Axes>"
      ]
     },
     "metadata": {
      "needs_background": "light"
     },
     "output_type": "display_data"
    }
   ],
   "source": [
    "# all_heater_only_modified_gers - This is the working boxplot for all_heater_only_modified_gers only Mongolia deployed sensors\n",
    "# https://stackoverflow.com/questions/22800079/converting-time-zone-pandas-dataframe\n",
    "# https://pandas.pydata.org/pandas-docs/version/0.23.4/generated/pandas.DataFrame.between_time.html\n",
    "\n",
    "from IPython.core.debugger import set_trace \n",
    "# https://matplotlib.org/3.1.3/gallery/statistics/boxplot_color.html \n",
    "data = gold_data\n",
    "print(data.index[1])\n",
    "# data = data.tz_convert(None)\n",
    "# data.index = data.index.tz_localize('GMT')\n",
    "data.index = data.index.tz_convert('Asia/Ulaanbaatar')\n",
    "print(data.index[1])\n",
    "\n",
    "labels = ['All Heater Only Modified Gers']\n",
    "plt.xlabel('')\n",
    "plt.ylabel('PM 2.5 Value')\n",
    "plt.title('Week PM 2.5 for Heater Only Modified Gers Sensors')\n",
    "plt.grid(True)\n",
    "days = ['05', '06', '07', '08', '09', '10', '11']\n",
    "data = data[data.pm2_5 >= 0]\n",
    "data = data[data.location_name == 'Mongolia']\n",
    "heater_only_modified_gers = ['GA', 'ND', 'NE']\n",
    "data = data[(data.name == heater_only_modified_gers[0]) | (data.name == heater_only_modified_gers[1]) | (data.name == heater_only_modified_gers[2])]\n",
    "\n",
    "all_sensors_names = []\n",
    "for name, sensor_data in data.groupby(\"name\"):\n",
    "    all_sensors_names.append(name)\n",
    "print(\"All Sensors names:\", all_sensors_names)\n",
    "\n",
    "day_names = data.index.day_name()\n",
    "print(type(day_names))\n",
    "print(day_names[:10])\n",
    "\n",
    "all_heater_only_modified_gers = [data['pm2_5']]\n",
    "print('{} list size: {}'.format(labels[0], len(data['pm2_5'])))\n",
    "results = plt.boxplot(all_heater_only_modified_gers, showfliers=False, labels=labels, showmeans=True, meanline=True)\n",
    "\n",
    "# print(results)\n",
    "print('whiskers: ', [item.get_ydata()[1] for item in results['whiskers']])\n",
    "print('caps: ', [item.get_ydata()[1] for item in results['caps']])\n",
    "print('boxes: ', [item.get_ydata()[1] for item in results['boxes']])\n",
    "print('medians: ', [item.get_ydata()[1] for item in results['medians']])\n",
    "print('means: ', [item.get_ydata()[1] for item in results['means']])\n",
    "print('fliers: ', [item.get_ydata()[1] for item in results['fliers']])\n",
    "\n",
    "data = gold_data"
   ]
  },
  {
   "cell_type": "code",
   "execution_count": 8,
   "metadata": {
    "scrolled": false
   },
   "outputs": [
    {
     "name": "stdout",
     "output_type": "stream",
     "text": [
      "2019-11-04 08:00:02+08:00\n",
      "2019-11-04 08:00:02+08:00\n",
      "All Sensors names: ['GA', 'ND', 'NE']\n",
      "<class 'pandas.core.indexes.base.Index'>\n",
      "Index(['Monday', 'Monday', 'Monday', 'Monday', 'Monday', 'Monday', 'Monday',\n",
      "       'Monday', 'Monday', 'Monday'],\n",
      "      dtype='object')\n",
      "Mon list size: 76734\n",
      "Tue list size: 76721\n",
      "Wed list size: 79860\n",
      "Thu list size: 78824\n",
      "Fri list size: 80935\n",
      "Sat list size: 81178\n",
      "Sun list size: 79901\n",
      "total for all days: 554153\n",
      "\n",
      "whiskers:  [1.0, 435.0, 0.0, 445.0, 0.0, 436.0, 0.0, 436.0, 0.0, 439.0, 0.0, 434.0, 0.0, 440.0]\n",
      "caps:  [1.0, 435.0, 0.0, 445.0, 0.0, 436.0, 0.0, 436.0, 0.0, 439.0, 0.0, 434.0, 0.0, 440.0]\n",
      "boxes:  [18.0, 15.0, 14.0, 19.0, 19.0, 19.0, 20.0]\n",
      "medians:  [71.0, 64.0, 62.0, 93.0, 76.0, 78.5, 82.0]\n",
      "means:  [151.97070399040842, 126.60706977229181, 140.4407838717756, 143.9046990764234, 116.52343238401185, 151.5146345068861, 139.95754746498793]\n",
      "fliers:  []\n"
     ]
    },
    {
     "data": {
      "image/png": "[encoded data removed]",
      "text/plain": [
       "<Figure size 432x288 with 1 Axes>"
      ]
     },
     "metadata": {
      "needs_background": "light"
     },
     "output_type": "display_data"
    }
   ],
   "source": [
    "# Day - This is the working boxplot for hybrid only Mongolia deployed sensors\n",
    "# https://stackoverflow.com/questions/22800079/converting-time-zone-pandas-dataframe\n",
    "# https://pandas.pydata.org/pandas-docs/version/0.23.4/generated/pandas.DataFrame.between_time.html\n",
    "\n",
    "from IPython.core.debugger import set_trace \n",
    "# https://matplotlib.org/3.1.3/gallery/statistics/boxplot_color.html \n",
    "data = gold_data\n",
    "print(data.index[1])\n",
    "# data = data.tz_convert(None)\n",
    "# data.index = data.index.tz_localize('GMT')\n",
    "data.index = data.index.tz_convert('Asia/Ulaanbaatar')\n",
    "print(data.index[1])\n",
    "\n",
    "labels = ['Mon', 'Tue', 'Wed', 'Thu', 'Fri', 'Sat', 'Sun']\n",
    "plt.xlabel('Dates')\n",
    "plt.ylabel('PM 2.5 Value')\n",
    "plt.title('Week PM 2.5 for sensors')\n",
    "plt.grid(True)\n",
    "days = ['05', '06', '07', '08', '09', '10', '11']\n",
    "data = data[data.pm2_5 >= 0]\n",
    "data = data[data.location_name == 'Mongolia']\n",
    "heater_only_modified_gers = ['GA', 'ND', 'NE']\n",
    "data = data[(data.name == heater_only_modified_gers[0]) | (data.name == heater_only_modified_gers[1]) | (data.name == heater_only_modified_gers[2])]\n",
    "\n",
    "all_sensors_names = []\n",
    "for name, sensor_data in data.groupby(\"name\"):\n",
    "    all_sensors_names.append(name)\n",
    "print(\"All Sensors names:\", all_sensors_names)\n",
    "\n",
    "day_names = data.index.day_name()\n",
    "print(type(day_names))\n",
    "print(day_names[:10])\n",
    "\n",
    "monday = data[(data.index.day_name() == 'Monday')]['pm2_5']\n",
    "tuesday = data[data.index.day_name() == 'Tuesday']['pm2_5']\n",
    "wednesday = data[data.index.day_name() == 'Wednesday']['pm2_5']\n",
    "thursday = data[data.index.day_name() == 'Thursday']['pm2_5']\n",
    "friday = data[data.index.day_name() == 'Friday']['pm2_5']\n",
    "saturday = data[data.index.day_name() == 'Saturday']['pm2_5']\n",
    "sunday = data[data.index.day_name() == 'Sunday']['pm2_5']\n",
    "all_days = [monday, tuesday, wednesday, thursday, friday, saturday, sunday]\n",
    "\n",
    "results = plt.boxplot(all_days, showfliers=False, labels=labels, showmeans=True, meanline=True)\n",
    "\n",
    "i = 0\n",
    "cumulative = 0\n",
    "for day in all_days:\n",
    "    print('{} list size: {}'.format(labels[i], len(day)))\n",
    "    cumulative += len(day)\n",
    "    i+= 1\n",
    "print('total for all days: {}'.format(cumulative))\n",
    "print()\n",
    "\n",
    "# print(results)\n",
    "print('whiskers: ', [item.get_ydata()[1] for item in results['whiskers']])\n",
    "print('caps: ', [item.get_ydata()[1] for item in results['caps']])\n",
    "print('boxes: ', [item.get_ydata()[1] for item in results['boxes']])\n",
    "print('medians: ', [item.get_ydata()[1] for item in results['medians']])\n",
    "print('means: ', [item.get_ydata()[1] for item in results['means']])\n",
    "print('fliers: ', [item.get_ydata()[1] for item in results['fliers']])\n",
    "\n",
    "data = gold_data"
   ]
  },
  {
   "cell_type": "code",
   "execution_count": 5,
   "metadata": {},
   "outputs": [
    {
     "name": "stdout",
     "output_type": "stream",
     "text": [
      "2019-11-04 08:00:02+08:00\n",
      "2019-11-04 08:00:02+08:00\n",
      "All Sensors names: ['GA', 'ND', 'NE']\n",
      "<class 'pandas.core.indexes.base.Index'>\n",
      "Index(['Monday', 'Monday', 'Monday', 'Monday', 'Monday', 'Monday', 'Monday',\n",
      "       'Monday', 'Monday', 'Monday'],\n",
      "      dtype='object')\n",
      "Monday - GA list size: 17136\n",
      "Monday - ND list size: 29682\n",
      "Monday - NE list size: 29916\n",
      "Monday total: 76734\n",
      "\n",
      "whiskers:  [1.0, 98.0, 1.0, 141.0, 163.0, 247.0]\n",
      "caps:  [1.0, 98.0, 1.0, 141.0, 163.0, 247.0]\n",
      "boxes:  [13.0, 9.0, 177.0]\n",
      "medians:  [27.0, 23.0, 186.0]\n",
      "means:  [40.904820261437905, 169.66872178424634, 198.03008423586041]\n",
      "fliers:  []\n"
     ]
    },
    {
     "data": {
      "image/png": "[encoded data removed]",
      "text/plain": [
       "<Figure size 432x288 with 1 Axes>"
      ]
     },
     "metadata": {
      "needs_background": "light"
     },
     "output_type": "display_data"
    },
    {
     "name": "stdout",
     "output_type": "stream",
     "text": [
      "Tuesday - GA list size: 15943\n",
      "Tuesday - ND list size: 30674\n",
      "Tuesday - NE list size: 30104\n",
      "Tuesday total: 76721\n",
      "\n",
      "whiskers:  [0.0, 89.0, 0.0, 108.0, 164.0, 273.0]\n",
      "caps:  [0.0, 89.0, 0.0, 108.0, 164.0, 273.0]\n",
      "boxes:  [9.0, 8.0, 178.0]\n",
      "medians:  [19.0, 22.0, 191.0]\n",
      "means:  [38.14100232076773, 81.8811045184847, 219.03129152272123]\n",
      "fliers:  []\n"
     ]
    },
    {
     "data": {
      "image/png": "[encoded data removed]",
      "text/plain": [
       "<Figure size 432x288 with 1 Axes>"
      ]
     },
     "metadata": {
      "needs_background": "light"
     },
     "output_type": "display_data"
    },
    {
     "name": "stdout",
     "output_type": "stream",
     "text": [
      "Wednesday - GA list size: 15778\n",
      "Wednesday - ND list size: 32723\n",
      "Wednesday - NE list size: 31359\n",
      "Wednesday total: 79860\n",
      "\n",
      "whiskers:  [0.0, 81.0, 0.0, 113.0, 127.0, 255.0]\n",
      "caps:  [0.0, 81.0, 0.0, 113.0, 127.0, 255.0]\n",
      "boxes:  [9.0, 7.0, 175.0]\n",
      "medians:  [18.0, 20.0, 185.0]\n",
      "means:  [30.60039295221194, 136.11912110747792, 200.21563187601646]\n",
      "fliers:  []\n"
     ]
    },
    {
     "data": {
      "image/png": "[encoded data removed]",
      "text/plain": [
       "<Figure size 432x288 with 1 Axes>"
      ]
     },
     "metadata": {
      "needs_background": "light"
     },
     "output_type": "display_data"
    },
    {
     "name": "stdout",
     "output_type": "stream",
     "text": [
      "Thursday - GA list size: 14383\n",
      "Thursday - ND list size: 32377\n",
      "Thursday - NE list size: 32064\n",
      "Thursday total: 78824\n",
      "\n",
      "whiskers:  [0.0, 136.0, 0.0, 156.0, 162.0, 259.0]\n",
      "caps:  [0.0, 136.0, 0.0, 156.0, 162.0, 259.0]\n",
      "boxes:  [11.0, 9.0, 177.0]\n",
      "medians:  [26.0, 24.0, 187.0]\n",
      "means:  [49.38510741848015, 126.7230132501467, 203.6529129241517]\n",
      "fliers:  []\n"
     ]
    },
    {
     "data": {
      "image/png": "[encoded data removed]",
      "text/plain": [
       "<Figure size 432x288 with 1 Axes>"
      ]
     },
     "metadata": {
      "needs_background": "light"
     },
     "output_type": "display_data"
    },
    {
     "name": "stdout",
     "output_type": "stream",
     "text": [
      "Friday - GA list size: 15050\n",
      "Friday - ND list size: 32829\n",
      "Friday - NE list size: 33056\n",
      "Friday total: 80935\n",
      "\n",
      "whiskers:  [1.0, 103.0, 0.0, 119.0, 154.0, 258.0]\n",
      "caps:  [1.0, 103.0, 0.0, 119.0, 154.0, 258.0]\n",
      "boxes:  [13.0, 9.0, 178.0]\n",
      "medians:  [27.0, 21.0, 189.0]\n",
      "means:  [41.2912292358804, 64.84598982606842, 202.09831800580832]\n",
      "fliers:  []\n"
     ]
    },
    {
     "data": {
      "image/png": "[encoded data removed]",
      "text/plain": [
       "<Figure size 432x288 with 1 Axes>"
      ]
     },
     "metadata": {
      "needs_background": "light"
     },
     "output_type": "display_data"
    },
    {
     "name": "stdout",
     "output_type": "stream",
     "text": [
      "Saturday - GA list size: 15483\n",
      "Saturday - ND list size: 33034\n",
      "Saturday - NE list size: 32661\n",
      "Saturday total: 81178\n",
      "\n",
      "whiskers:  [0.0, 106.0, 0.0, 134.0, 159.0, 244.0]\n",
      "caps:  [0.0, 106.0, 0.0, 134.0, 159.0, 244.0]\n",
      "boxes:  [11.0, 9.0, 177.0]\n",
      "medians:  [28.0, 23.0, 187.0]\n",
      "means:  [42.78854227216948, 152.3470969304353, 202.21444536297113]\n",
      "fliers:  []\n"
     ]
    },
    {
     "data": {
      "image/png": "[encoded data removed]",
      "text/plain": [
       "<Figure size 432x288 with 1 Axes>"
      ]
     },
     "metadata": {
      "needs_background": "light"
     },
     "output_type": "display_data"
    },
    {
     "name": "stdout",
     "output_type": "stream",
     "text": [
      "Sunday - GA list size: 16253\n",
      "Sunday - ND list size: 31733\n",
      "Sunday - NE list size: 31915\n",
      "Sunday total: 79901\n",
      "\n",
      "whiskers:  [1.0, 142.0, 0.0, 118.0, 150.0, 256.0]\n",
      "caps:  [1.0, 142.0, 0.0, 118.0, 150.0, 256.0]\n",
      "boxes:  [15.0, 8.0, 179.0]\n",
      "medians:  [35.0, 22.0, 191.0]\n",
      "means:  [72.28874669291822, 109.45306148173826, 204.74902083659723]\n",
      "fliers:  []\n"
     ]
    },
    {
     "data": {
      "image/png": "[encoded data removed]",
      "text/plain": [
       "<Figure size 432x288 with 1 Axes>"
      ]
     },
     "metadata": {
      "needs_background": "light"
     },
     "output_type": "display_data"
    }
   ],
   "source": [
    "# Day each sensors - This is the working boxplot for hybrid only Mongolia deployed sensors\n",
    "# https://stackoverflow.com/questions/22800079/converting-time-zone-pandas-dataframe\n",
    "# https://pandas.pydata.org/pandas-docs/version/0.23.4/generated/pandas.DataFrame.between_time.html\n",
    "import numpy as np\n",
    "from IPython.core.debugger import set_trace \n",
    "# https://matplotlib.org/3.1.3/gallery/statistics/boxplot_color.html \n",
    "data = gold_data\n",
    "print(data.index[1])\n",
    "# data = data.tz_convert(None)\n",
    "# data.index = data.index.tz_localize('GMT')\n",
    "data.index = data.index.tz_convert('Asia/Ulaanbaatar')\n",
    "print(data.index[1])\n",
    "\n",
    "labels = ['AK', 'AL', 'AR', 'AZ', 'CA', 'CO', 'CT', 'DE', 'FL', 'IA', 'KS', 'KY', 'LA', 'MD', 'ME', 'MI', 'MN', 'MS', 'MT', 'NC', 'NH']\n",
    "plt.xlabel('Sensors')\n",
    "plt.ylabel('PM 2.5 Value')\n",
    "plt.title('Week PM 2.5 for sensors')\n",
    "plt.grid(True)\n",
    "days_of_week = ['Monday', 'Tuesday', 'Wednesday', 'Thursday', 'Friday', 'Saturday', 'Sunday']\n",
    "data = data[data.pm2_5 >= 0]\n",
    "data = data[data.location_name == 'Mongolia']\n",
    "heater_only_modified_gers = ['GA', 'ND', 'NE']\n",
    "data = data[(data.name == heater_only_modified_gers[0]) | (data.name == heater_only_modified_gers[1]) | (data.name == heater_only_modified_gers[2])]\n",
    "\n",
    "all_sensors_names = []\n",
    "for name, sensor_data in data.groupby(\"name\"):\n",
    "    all_sensors_names.append(name)\n",
    "print(\"All Sensors names:\", all_sensors_names)\n",
    "\n",
    "day_names = data.index.day_name()\n",
    "print(type(day_names))\n",
    "print(day_names[:10])\n",
    "\n",
    "\n",
    "# for name, sensor_data in data.groupby(\"name\"):\n",
    "for day in days_of_week:\n",
    "    plt.xlabel('Sensors for {0}'.format(day))\n",
    "    plt.ylabel('PM 2.5 Value')\n",
    "    plt.title('Week PM 2.5 for sensors for {0}'.format(day))\n",
    "    plt.grid(True)\n",
    "    sensors_data = list()\n",
    "    sensors_name = list()\n",
    "    temp = data[data.index.day_name() == day]\n",
    "    # temp = temp.groupby(\"name\")\n",
    "    cumulative = 0    \n",
    "    for name, sensor_data in temp.groupby(\"name\"):\n",
    "        sensors_name.append(name)\n",
    "        sensors_data.append(temp.groupby(\"name\").get_group(name)[\"pm2_5\"].to_numpy().tolist())\n",
    "        cumulative += len(sensor_data)\n",
    "        print('{} - {} list size: {}'.format(day, name,  len(sensor_data)))\n",
    "    print ('{} total: {}'.format(day, cumulative))    \n",
    "    print()        \n",
    "\n",
    "    results = plt.boxplot(sensors_data, showfliers=False, labels=sensors_name, showmeans=True, meanline=True)\n",
    "    print('whiskers: ', [item.get_ydata()[1] for item in results['whiskers']])\n",
    "    print('caps: ', [item.get_ydata()[1] for item in results['caps']])\n",
    "    print('boxes: ', [item.get_ydata()[1] for item in results['boxes']])\n",
    "    print('medians: ', [item.get_ydata()[1] for item in results['medians']])\n",
    "    print('means: ', [item.get_ydata()[1] for item in results['means']])\n",
    "    print('fliers: ', [item.get_ydata()[1] for item in results['fliers']])\n",
    "    plt.show()\n",
    "\n",
    "data = gold_data"
   ]
  }
 ],
 "metadata": {
  "kernelspec": {
   "display_name": "Python 3",
   "language": "python",
   "name": "python3"
  },
  "language_info": {
   "codemirror_mode": {
    "name": "ipython",
    "version": 3
   },
   "file_extension": ".py",
   "mimetype": "text/x-python",
   "name": "python",
   "nbconvert_exporter": "python",
   "pygments_lexer": "ipython3",
   "version": "3.7.4"
  }
 },
 "nbformat": 4,
 "nbformat_minor": 2
}
