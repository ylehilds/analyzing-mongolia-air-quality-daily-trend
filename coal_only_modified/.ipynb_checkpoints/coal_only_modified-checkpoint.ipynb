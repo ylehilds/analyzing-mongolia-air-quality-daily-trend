{
 "cells": [
  {
   "cell_type": "code",
   "execution_count": 1,
   "metadata": {},
   "outputs": [],
   "source": []
  },
  {
   "cell_type": "code",
   "execution_count": 2,
   "metadata": {},
   "outputs": [
    {
     "name": "stdout",
     "output_type": "stream",
     "text": [
      "3.7.4\n"
     ]
    }
   ],
   "source": [
    "from platform import python_version\n",
    "\n",
    "print(python_version())"
   ]
  },
  {
   "cell_type": "code",
   "execution_count": 3,
   "metadata": {},
   "outputs": [
    {
     "name": "stderr",
     "output_type": "stream",
     "text": [
      "INFO:__main__:Loading cached data...\n",
      "INFO:numexpr.utils:NumExpr defaulting to 8 threads.\n",
      "INFO:__main__:Loading cached data...\n",
      "INFO:__main__:Done loading data...\n"
     ]
    }
   ],
   "source": [
    "import sys\n",
    "# Add the path to system, local or mounted S3 bucket, e.g. /dbfs/mnt/<path_to_bucket>\n",
    "sys.path.append('./secrets.py')\n",
    "\n",
    "import logging\n",
    "import math\n",
    "import os\n",
    "\n",
    "from influxdb import DataFrameClient\n",
    "import numpy as np\n",
    "import matplotlib.mlab as mlab\n",
    "import pandas as pd\n",
    "import matplotlib.pyplot as plt\n",
    "from tabulate import tabulate\n",
    "from tqdm import tqdm\n",
    "%matplotlib inline\n",
    "\n",
    "logging.basicConfig(level=logging.INFO)\n",
    "LOGGER = logging.getLogger(__name__)\n",
    "\n",
    "# Need to ssh tunnel for this to work\n",
    "# ssh -L 8086:localhost:8086 aq.byu.edu -N\n",
    "influx = DataFrameClient(\n",
    "    host=HOST,\n",
    "    port=PORT,\n",
    "    username=USERNAME,\n",
    "    password=PASSWORD,\n",
    "    database=DATABASE,\n",
    ")\n",
    "\n",
    "\n",
    "def large_query(influx, measurement, query, total=None, limit=100_000):\n",
    "    if total is not None:\n",
    "        total = math.ceil(total / limit)\n",
    "\n",
    "    with tqdm(total=total) as pbar:\n",
    "        offset = 0\n",
    "        while True:\n",
    "            new_query = query + \" LIMIT {} OFFSET {}\".format(limit, offset)\n",
    "            data = influx.query(new_query)\n",
    "            data = data[measurement]\n",
    "\n",
    "            received = len(data)\n",
    "            pbar.update(1)\n",
    "\n",
    "            yield data\n",
    "\n",
    "            offset += limit\n",
    "            if received != limit:\n",
    "                break\n",
    "\n",
    "\n",
    "def load_data(filename):\n",
    "    if os.path.exists(filename):\n",
    "        LOGGER.info(\"Loading cached data...\")\n",
    "        return pd.read_hdf(filename)\n",
    "\n",
    "    LOGGER.info(\"Downloading data...\")\n",
    "    result = influx.query(\n",
    "        \"SELECT COUNT(sequence) FROM air_quality_sensor WHERE time > '2019-10-01' AND time <= now()\"\n",
    "    )\n",
    "    count = result[\"air_quality_sensor\"].values[0][0]\n",
    "\n",
    "    queries = large_query(\n",
    "        influx,\n",
    "        \"air_quality_sensor\",\n",
    "        \"SELECT * FROM air_quality_sensor WHERE time > '2019-10-01' AND time <= now()\",\n",
    "        count,\n",
    "    )\n",
    "\n",
    "    all_data = pd.concat(list(queries), sort=False)\n",
    "    all_data.to_hdf(filename, \"data\")\n",
    "    return all_data\n",
    "\n",
    "\n",
    "data = load_data(\"aq_data.h5\")\n",
    "gold_data = load_data(\"aq_data.h5\")\n",
    "\n",
    "LOGGER.info(\"Done loading data...\")\n",
    "\n"
   ]
  },
  {
   "cell_type": "code",
   "execution_count": 6,
   "metadata": {},
   "outputs": [
    {
     "name": "stdout",
     "output_type": "stream",
     "text": [
      "2019-11-04 08:00:02+08:00\n",
      "2019-11-04 08:00:02+08:00\n",
      "All Sensors names: ['OH']\n",
      "<class 'pandas.core.indexes.base.Index'>\n",
      "Index(['Monday', 'Monday', 'Monday', 'Monday', 'Monday', 'Monday', 'Monday',\n",
      "       'Monday', 'Monday', 'Monday'],\n",
      "      dtype='object')\n",
      "All Coal Only Modified Gers list size: 79886\n",
      "whiskers:  [1.5648081623977041, 291.054318205973]\n",
      "caps:  [1.5648081623977041, 291.054318205973]\n",
      "boxes:  [40.68501222234031]\n",
      "medians:  [98.58291423105537]\n",
      "means:  [107.9078918290823]\n",
      "fliers:  []\n"
     ]
    },
    {
     "data": {
      "image/png": "[encoded data removed]",
      "text/plain": [
       "<Figure size 432x288 with 1 Axes>"
      ]
     },
     "metadata": {
      "needs_background": "light"
     },
     "output_type": "display_data"
    }
   ],
   "source": [
    "# all_coal_only_modified_gers - This is the working boxplot for all_coal_only_modified_gers only Mongolia deployed sensors\n",
    "# https://stackoverflow.com/questions/22800079/converting-time-zone-pandas-dataframe\n",
    "# https://pandas.pydata.org/pandas-docs/version/0.23.4/generated/pandas.DataFrame.between_time.html\n",
    "\n",
    "from IPython.core.debugger import set_trace \n",
    "# https://matplotlib.org/3.1.3/gallery/statistics/boxplot_color.html \n",
    "data = gold_data\n",
    "print(data.index[1])\n",
    "# data = data.tz_convert(None)\n",
    "# data.index = data.index.tz_localize('GMT')\n",
    "data.index = data.index.tz_convert('Asia/Ulaanbaatar')\n",
    "print(data.index[1])\n",
    "\n",
    "labels = ['All Coal Only Modified Gers']\n",
    "plt.xlabel('')\n",
    "plt.ylabel('PM 2.5 Value')\n",
    "plt.title('Week PM 2.5 for Coal Only Modified Gers Sensors')\n",
    "plt.grid(True)\n",
    "days = ['05', '06', '07', '08', '09', '10', '11']\n",
    "\n",
    "# Clean up data this way:\n",
    "data.loc[data['pm2_5'] > 1000, 'pm2_5'] = 1000\n",
    "data.loc[data['pm2_5'] < 0, 'pm2_5'] = 0\n",
    "# https://www.geeksforgeeks.org/create-a-new-column-in-pandas-dataframe-based-on-the-existing-columns/\n",
    "data['pm2_5'] = data['pm2_5'] / (1 + ((0.4/1.65)/(-1+(1/(35/100)))))\n",
    "data = data[data.location_name == 'Mongolia']\n",
    "\n",
    "coal_only_modified_gers = ['OH']\n",
    "data = data[(data.name == coal_only_modified_gers[0])]\n",
    "\n",
    "all_sensors_names = []\n",
    "for name, sensor_data in data.groupby(\"name\"):\n",
    "    all_sensors_names.append(name)\n",
    "print(\"All Sensors names:\", all_sensors_names)\n",
    "\n",
    "day_names = data.index.day_name()\n",
    "print(type(day_names))\n",
    "print(day_names[:10])\n",
    "\n",
    "all_coal_only_modified_gers = [data['pm2_5'].dropna()]\n",
    "print('{} list size: {}'.format(labels[0], len(data['pm2_5'])))\n",
    "results = plt.boxplot(all_coal_only_modified_gers, showfliers=False, labels=labels, showmeans=True, meanline=True)\n",
    "\n",
    "# print(results)\n",
    "print('whiskers: ', [item.get_ydata()[1] for item in results['whiskers']])\n",
    "print('caps: ', [item.get_ydata()[1] for item in results['caps']])\n",
    "print('boxes: ', [item.get_ydata()[1] for item in results['boxes']])\n",
    "print('medians: ', [item.get_ydata()[1] for item in results['medians']])\n",
    "print('means: ', [item.get_ydata()[1] for item in results['means']])\n",
    "print('fliers: ', [item.get_ydata()[1] for item in results['fliers']])\n",
    "\n",
    "data = gold_data"
   ]
  },
  {
   "cell_type": "code",
   "execution_count": 8,
   "metadata": {
    "scrolled": false
   },
   "outputs": [
    {
     "name": "stdout",
     "output_type": "stream",
     "text": [
      "2019-11-04 08:00:02+08:00\n",
      "2019-11-04 08:00:02+08:00\n",
      "All Sensors names: ['OH']\n",
      "<class 'pandas.core.indexes.base.Index'>\n",
      "Index(['Monday', 'Monday', 'Monday', 'Monday', 'Monday', 'Monday', 'Monday',\n",
      "       'Monday', 'Monday', 'Monday'],\n",
      "      dtype='object')\n",
      "Mon list size: 7692\n",
      "Tue list size: 6959\n",
      "Wed list size: 7200\n",
      "Thu list size: 7163\n",
      "Fri list size: 5900\n",
      "Sat list size: 6124\n",
      "Sun list size: 7189\n",
      "total for all days: 48227\n",
      "\n",
      "whiskers:  [2.0761939226864388, 275.44172707640087, 4.844452486268357, 276.1337917172964, 1.384129281790959, 269.905209949237, 6.920646408954796, 243.60675359520877, 4.1523878453728775, 233.91784862267204, 7.612711049850274, 231.14959005909014, 5.536517127163836, 220.76862044565794]\n",
      "caps:  [2.0761939226864388, 275.44172707640087, 4.844452486268357, 276.1337917172964, 1.384129281790959, 269.905209949237, 6.920646408954796, 243.60675359520877, 4.1523878453728775, 233.91784862267204, 7.612711049850274, 231.14959005909014, 5.536517127163836, 220.76862044565794]\n",
      "boxes:  [28.37465027671466, 63.66994696238411, 31.142908840296577, 34.603232044773975, 35.98736132656494, 26.990520994923703, 42.908007735519725]\n",
      "medians:  [82.35569226656206, 110.03827790238125, 80.27949834387563, 101.04143757074002, 83.739821548353, 56.74930055342932, 87.20014475283041]\n",
      "means:  [93.75217586878615, 120.77248987886283, 92.49261297398958, 89.63285389608146, 94.497321246069, 87.31315334866572, 89.21501649214636]\n",
      "fliers:  []\n"
     ]
    },
    {
     "data": {
      "image/png": "[encoded data removed]",
      "text/plain": [
       "<Figure size 432x288 with 1 Axes>"
      ]
     },
     "metadata": {
      "needs_background": "light"
     },
     "output_type": "display_data"
    }
   ],
   "source": [
    "# Day - This is the working boxplot for hybrid only Mongolia deployed sensors\n",
    "# https://stackoverflow.com/questions/22800079/converting-time-zone-pandas-dataframe\n",
    "# https://pandas.pydata.org/pandas-docs/version/0.23.4/generated/pandas.DataFrame.between_time.html\n",
    "\n",
    "from IPython.core.debugger import set_trace \n",
    "# https://matplotlib.org/3.1.3/gallery/statistics/boxplot_color.html \n",
    "data = gold_data\n",
    "print(data.index[1])\n",
    "# data = data.tz_convert(None)\n",
    "# data.index = data.index.tz_localize('GMT')\n",
    "data.index = data.index.tz_convert('Asia/Ulaanbaatar')\n",
    "print(data.index[1])\n",
    "\n",
    "labels = ['Mon', 'Tue', 'Wed', 'Thu', 'Fri', 'Sat', 'Sun']\n",
    "plt.xlabel('Dates')\n",
    "plt.ylabel('PM 2.5 Value')\n",
    "plt.title('Week PM 2.5 for sensors')\n",
    "plt.grid(True)\n",
    "days = ['05', '06', '07', '08', '09', '10', '11']\n",
    "\n",
    "# Clean up data this way:\n",
    "data.loc[data['pm2_5'] > 1000, 'pm2_5'] = 1000\n",
    "data.loc[data['pm2_5'] < 0, 'pm2_5'] = 0\n",
    "# https://www.geeksforgeeks.org/create-a-new-column-in-pandas-dataframe-based-on-the-existing-columns/\n",
    "data['pm2_5'] = data['pm2_5'] / (1 + ((0.4/1.65)/(-1+(1/(35/100)))))\n",
    "data = data[data.location_name == 'Mongolia']\n",
    "coal_only_modified_gers = ['OH']\n",
    "data = data[(data.name == coal_only_modified_gers[0])]\n",
    "\n",
    "all_sensors_names = []\n",
    "for name, sensor_data in data.groupby(\"name\"):\n",
    "    all_sensors_names.append(name)\n",
    "print(\"All Sensors names:\", all_sensors_names)\n",
    "\n",
    "day_names = data.index.day_name()\n",
    "print(type(day_names))\n",
    "print(day_names[:10])\n",
    "\n",
    "monday = data[(data.index.day_name() == 'Monday')]['pm2_5'].dropna()\n",
    "tuesday = data[data.index.day_name() == 'Tuesday']['pm2_5'].dropna()\n",
    "wednesday = data[data.index.day_name() == 'Wednesday']['pm2_5'].dropna()\n",
    "thursday = data[data.index.day_name() == 'Thursday']['pm2_5'].dropna()\n",
    "friday = data[data.index.day_name() == 'Friday']['pm2_5'].dropna()\n",
    "saturday = data[data.index.day_name() == 'Saturday']['pm2_5'].dropna()\n",
    "sunday = data[data.index.day_name() == 'Sunday']['pm2_5'].dropna()\n",
    "all_days = [monday, tuesday, wednesday, thursday, friday, saturday, sunday]\n",
    "\n",
    "results = plt.boxplot(all_days, showfliers=False, labels=labels, showmeans=True, meanline=True)\n",
    "\n",
    "i = 0\n",
    "cumulative = 0\n",
    "for day in all_days:\n",
    "    print('{} list size: {}'.format(labels[i], len(day)))\n",
    "    cumulative += len(day)\n",
    "    i+= 1\n",
    "print('total for all days: {}'.format(cumulative))\n",
    "print()\n",
    "\n",
    "# print(results)\n",
    "print('whiskers: ', [item.get_ydata()[1] for item in results['whiskers']])\n",
    "print('caps: ', [item.get_ydata()[1] for item in results['caps']])\n",
    "print('boxes: ', [item.get_ydata()[1] for item in results['boxes']])\n",
    "print('medians: ', [item.get_ydata()[1] for item in results['medians']])\n",
    "print('means: ', [item.get_ydata()[1] for item in results['means']])\n",
    "print('fliers: ', [item.get_ydata()[1] for item in results['fliers']])\n",
    "\n",
    "data = gold_data"
   ]
  },
  {
   "cell_type": "code",
   "execution_count": 9,
   "metadata": {},
   "outputs": [
    {
     "name": "stdout",
     "output_type": "stream",
     "text": [
      "2019-11-04 08:00:02+08:00\n",
      "2019-11-04 08:00:02+08:00\n",
      "All Sensors names: ['OH']\n",
      "<class 'pandas.core.indexes.base.Index'>\n",
      "Index(['Monday', 'Monday', 'Monday', 'Monday', 'Monday', 'Monday', 'Monday',\n",
      "       'Monday', 'Monday', 'Monday'],\n",
      "      dtype='object')\n",
      "Monday - OH list size: 12206\n",
      "Monday total: 12206\n",
      "\n",
      "whiskers:  [1.8364684388298602, 243.6381462180948]\n",
      "caps:  [1.8364684388298602, 243.6381462180948]\n",
      "boxes:  [25.098401997341423]\n",
      "medians:  [72.84658140691778]\n",
      "means:  [82.92718236641083]\n",
      "fliers:  []\n"
     ]
    },
    {
     "data": {
      "image/png": "[encoded data removed]",
      "text/plain": [
       "<Figure size 432x288 with 1 Axes>"
      ]
     },
     "metadata": {
      "needs_background": "light"
     },
     "output_type": "display_data"
    },
    {
     "name": "stdout",
     "output_type": "stream",
     "text": [
      "Tuesday - OH list size: 11900\n",
      "Tuesday total: 11900\n",
      "\n",
      "whiskers:  [4.28509302393634, 244.25030236437144]\n",
      "caps:  [4.28509302393634, 244.25030236437144]\n",
      "boxes:  [56.31836545744903]\n",
      "medians:  [97.33282725798259]\n",
      "means:  [106.82762506810755]\n",
      "fliers:  []\n"
     ]
    },
    {
     "data": {
      "image/png": "[encoded data removed]",
      "text/plain": [
       "<Figure size 432x288 with 1 Axes>"
      ]
     },
     "metadata": {
      "needs_background": "light"
     },
     "output_type": "display_data"
    },
    {
     "name": "stdout",
     "output_type": "stream",
     "text": [
      "Wednesday - OH list size: 11490\n",
      "Wednesday total: 11490\n",
      "\n",
      "whiskers:  [1.22431229255324, 238.74089704788182]\n",
      "caps:  [1.22431229255324, 238.74089704788182]\n",
      "boxes:  [27.5470265824479]\n",
      "medians:  [71.01011296808792]\n",
      "means:  [81.81305353781758]\n",
      "fliers:  []\n"
     ]
    },
    {
     "data": {
      "image/png": "[encoded data removed]",
      "text/plain": [
       "<Figure size 432x288 with 1 Axes>"
      ]
     },
     "metadata": {
      "needs_background": "light"
     },
     "output_type": "display_data"
    },
    {
     "name": "stdout",
     "output_type": "stream",
     "text": [
      "Thursday - OH list size: 11483\n",
      "Thursday total: 11483\n",
      "\n",
      "whiskers:  [6.121561462766201, 215.47896348937022]\n",
      "caps:  [6.121561462766201, 215.47896348937022]\n",
      "boxes:  [30.607807313831]\n",
      "medians:  [89.37479735638652]\n",
      "means:  [79.28349344622464]\n",
      "fliers:  []\n"
     ]
    },
    {
     "data": {
      "image/png": "[encoded data removed]",
      "text/plain": [
       "<Figure size 432x288 with 1 Axes>"
      ]
     },
     "metadata": {
      "needs_background": "light"
     },
     "output_type": "display_data"
    },
    {
     "name": "stdout",
     "output_type": "stream",
     "text": [
      "Friday - OH list size: 10849\n",
      "Friday total: 10849\n",
      "\n",
      "whiskers:  [3.6729368776597204, 206.90877744149753]\n",
      "caps:  [3.6729368776597204, 206.90877744149753]\n",
      "boxes:  [31.832119606384243]\n",
      "medians:  [74.07089369947101]\n",
      "means:  [83.58629033930642]\n",
      "fliers:  []\n"
     ]
    },
    {
     "data": {
      "image/png": "[encoded data removed]",
      "text/plain": [
       "<Figure size 432x288 with 1 Axes>"
      ]
     },
     "metadata": {
      "needs_background": "light"
     },
     "output_type": "display_data"
    },
    {
     "name": "stdout",
     "output_type": "stream",
     "text": [
      "Saturday - OH list size: 10468\n",
      "Saturday total: 10468\n",
      "\n",
      "whiskers:  [6.733717609042819, 204.46015285639106]\n",
      "caps:  [6.733717609042819, 204.46015285639106]\n",
      "boxes:  [23.874089704788183]\n",
      "medians:  [50.196803994682845]\n",
      "means:  [77.2316346115002]\n",
      "fliers:  []\n"
     ]
    },
    {
     "data": {
      "image/png": "[encoded data removed]",
      "text/plain": [
       "<Figure size 432x288 with 1 Axes>"
      ]
     },
     "metadata": {
      "needs_background": "light"
     },
     "output_type": "display_data"
    },
    {
     "name": "stdout",
     "output_type": "stream",
     "text": [
      "Sunday - OH list size: 11490\n",
      "Sunday total: 11490\n",
      "\n",
      "whiskers:  [4.89724917021296, 195.27781066224176]\n",
      "caps:  [4.89724917021296, 195.27781066224176]\n",
      "boxes:  [37.953681069150434]\n",
      "medians:  [77.13167443085412]\n",
      "means:  [78.91390118583669]\n",
      "fliers:  []\n"
     ]
    },
    {
     "data": {
      "image/png": "[encoded data removed]",
      "text/plain": [
       "<Figure size 432x288 with 1 Axes>"
      ]
     },
     "metadata": {
      "needs_background": "light"
     },
     "output_type": "display_data"
    }
   ],
   "source": [
    "# Day each sensors - This is the working boxplot for hybrid only Mongolia deployed sensors\n",
    "# https://stackoverflow.com/questions/22800079/converting-time-zone-pandas-dataframe\n",
    "# https://pandas.pydata.org/pandas-docs/version/0.23.4/generated/pandas.DataFrame.between_time.html\n",
    "import numpy as np\n",
    "from IPython.core.debugger import set_trace \n",
    "# https://matplotlib.org/3.1.3/gallery/statistics/boxplot_color.html \n",
    "data = gold_data\n",
    "print(data.index[1])\n",
    "# data = data.tz_convert(None)\n",
    "# data.index = data.index.tz_localize('GMT')\n",
    "data.index = data.index.tz_convert('Asia/Ulaanbaatar')\n",
    "print(data.index[1])\n",
    "\n",
    "labels = ['AK', 'AL', 'AR', 'AZ', 'CA', 'CO', 'CT', 'DE', 'FL', 'IA', 'KS', 'KY', 'LA', 'MD', 'ME', 'MI', 'MN', 'MS', 'MT', 'NC', 'NH']\n",
    "plt.xlabel('Sensors')\n",
    "plt.ylabel('PM 2.5 Value')\n",
    "plt.title('Week PM 2.5 for sensors')\n",
    "plt.grid(True)\n",
    "days_of_week = ['Monday', 'Tuesday', 'Wednesday', 'Thursday', 'Friday', 'Saturday', 'Sunday']\n",
    "# Clean up data this way:\n",
    "data.loc[data['pm2_5'] > 1000, 'pm2_5'] = 1000\n",
    "data.loc[data['pm2_5'] < 0, 'pm2_5'] = 0\n",
    "# https://www.geeksforgeeks.org/create-a-new-column-in-pandas-dataframe-based-on-the-existing-columns/\n",
    "data['pm2_5'] = data['pm2_5'] / (1 + ((0.4/1.65)/(-1+(1/(35/100)))))\n",
    "data = data[data.location_name == 'Mongolia']\n",
    "coal_only_modified_gers = ['OH']\n",
    "data = data[(data.name == coal_only_modified_gers[0])]\n",
    "\n",
    "all_sensors_names = []\n",
    "for name, sensor_data in data.groupby(\"name\"):\n",
    "    all_sensors_names.append(name)\n",
    "print(\"All Sensors names:\", all_sensors_names)\n",
    "\n",
    "day_names = data.index.day_name()\n",
    "print(type(day_names))\n",
    "print(day_names[:10])\n",
    "\n",
    "\n",
    "# for name, sensor_data in data.groupby(\"name\"):\n",
    "for day in days_of_week:\n",
    "    plt.xlabel('Sensors for {0}'.format(day))\n",
    "    plt.ylabel('PM 2.5 Value')\n",
    "    plt.title('Week PM 2.5 for sensors for {0}'.format(day))\n",
    "    plt.grid(True)\n",
    "    sensors_data = list()\n",
    "    sensors_name = list()\n",
    "    temp = data[data.index.day_name() == day]\n",
    "    # temp = temp.groupby(\"name\")\n",
    "    cumulative = 0    \n",
    "    for name, sensor_data in temp.groupby(\"name\"):\n",
    "        sensors_name.append(name)\n",
    "        sensors_data.append(temp.groupby(\"name\").get_group(name)[\"pm2_5\"].dropna().to_numpy().tolist())\n",
    "        cumulative += len(sensor_data)\n",
    "        print('{} - {} list size: {}'.format(day, name,  len(sensor_data)))\n",
    "    print ('{} total: {}'.format(day, cumulative))    \n",
    "    print()        \n",
    "    results = plt.boxplot(sensors_data, showfliers=False, labels=sensors_name, showmeans=True, meanline=True)\n",
    "    print('whiskers: ', [item.get_ydata()[1] for item in results['whiskers']])\n",
    "    print('caps: ', [item.get_ydata()[1] for item in results['caps']])\n",
    "    print('boxes: ', [item.get_ydata()[1] for item in results['boxes']])\n",
    "    print('medians: ', [item.get_ydata()[1] for item in results['medians']])\n",
    "    print('means: ', [item.get_ydata()[1] for item in results['means']])\n",
    "    print('fliers: ', [item.get_ydata()[1] for item in results['fliers']])\n",
    "    plt.show()\n",
    "\n",
    "data = gold_data"
   ]
  },
  {
   "cell_type": "code",
   "execution_count": null,
   "metadata": {},
   "outputs": [],
   "source": []
  }
 ],
 "metadata": {
  "kernelspec": {
   "display_name": "Python 3",
   "language": "python",
   "name": "python3"
  },
  "language_info": {
   "codemirror_mode": {
    "name": "ipython",
    "version": 3
   },
   "file_extension": ".py",
   "mimetype": "text/x-python",
   "name": "python",
   "nbconvert_exporter": "python",
   "pygments_lexer": "ipython3",
   "version": "3.7.4"
  }
 },
 "nbformat": 4,
 "nbformat_minor": 2
}
