{
 "cells": [
  {
   "cell_type": "code",
   "execution_count": 1,
   "metadata": {},
   "outputs": [],
   "source": []
  },
  {
   "cell_type": "code",
   "execution_count": 2,
   "metadata": {},
   "outputs": [
    {
     "name": "stdout",
     "output_type": "stream",
     "text": [
      "3.7.4\n"
     ]
    }
   ],
   "source": [
    "from platform import python_version\n",
    "\n",
    "print(python_version())"
   ]
  },
  {
   "cell_type": "code",
   "execution_count": 4,
   "metadata": {},
   "outputs": [
    {
     "name": "stderr",
     "output_type": "stream",
     "text": [
      "INFO:__main__:Loading cached data...\n",
      "INFO:__main__:Loading cached data...\n",
      "INFO:__main__:Done loading data...\n"
     ]
    }
   ],
   "source": [
    "import sys\n",
    "# Add the path to system, local or mounted S3 bucket, e.g. /dbfs/mnt/<path_to_bucket>\n",
    "sys.path.append('./secrets.py')\n",
    "\n",
    "import logging\n",
    "import math\n",
    "import os\n",
    "\n",
    "from influxdb import DataFrameClient\n",
    "import numpy as np\n",
    "import matplotlib.mlab as mlab\n",
    "import pandas as pd\n",
    "import matplotlib.pyplot as plt\n",
    "from tabulate import tabulate\n",
    "from tqdm import tqdm\n",
    "%matplotlib inline\n",
    "\n",
    "logging.basicConfig(level=logging.INFO)\n",
    "LOGGER = logging.getLogger(__name__)\n",
    "\n",
    "# Need to ssh tunnel for this to work\n",
    "# ssh -L 8086:localhost:8086 aq.byu.edu -N\n",
    "influx = DataFrameClient(\n",
    "    host=HOST,\n",
    "    port=PORT,\n",
    "    username=USERNAME,\n",
    "    password=PASSWORD,\n",
    "    database=DATABASE,\n",
    ")\n",
    "\n",
    "\n",
    "def large_query(influx, measurement, query, total=None, limit=100_000):\n",
    "    if total is not None:\n",
    "        total = math.ceil(total / limit)\n",
    "\n",
    "    with tqdm(total=total) as pbar:\n",
    "        offset = 0\n",
    "        while True:\n",
    "            new_query = query + \" LIMIT {} OFFSET {}\".format(limit, offset)\n",
    "            data = influx.query(new_query)\n",
    "            data = data[measurement]\n",
    "\n",
    "            received = len(data)\n",
    "            pbar.update(1)\n",
    "\n",
    "            yield data\n",
    "\n",
    "            offset += limit\n",
    "            if received != limit:\n",
    "                break\n",
    "\n",
    "\n",
    "def load_data(filename):\n",
    "    if os.path.exists(filename):\n",
    "        LOGGER.info(\"Loading cached data...\")\n",
    "        return pd.read_hdf(filename)\n",
    "\n",
    "    LOGGER.info(\"Downloading data...\")\n",
    "    result = influx.query(\n",
    "        \"SELECT COUNT(sequence) FROM air_quality_sensor WHERE time > '2019-10-01' AND time <= '2020-04-30'\"\n",
    "    )\n",
    "    count = result[\"air_quality_sensor\"].values[0][0]\n",
    "\n",
    "    queries = large_query(\n",
    "        influx,\n",
    "        \"air_quality_sensor\",\n",
    "        \"SELECT * FROM air_quality_sensor WHERE time > '2019-10-01' AND time <= '2020-04-30'\",\n",
    "        count,\n",
    "    )\n",
    "\n",
    "    all_data = pd.concat(list(queries), sort=False)\n",
    "    all_data.to_hdf(filename, \"data\")\n",
    "    return all_data\n",
    "\n",
    "\n",
    "data = load_data(\"aq_data.h5\")\n",
    "gold_data = load_data(\"aq_data.h5\")\n",
    "\n",
    "LOGGER.info(\"Done loading data...\")\n",
    "\n"
   ]
  },
  {
   "cell_type": "code",
   "execution_count": 5,
   "metadata": {},
   "outputs": [
    {
     "name": "stdout",
     "output_type": "stream",
     "text": [
      "2019-10-01 00:00:05+00:00\n",
      "2019-10-01 08:00:05+08:00\n",
      "All Sensors names: ['OH']\n",
      "<class 'pandas.core.indexes.base.Index'>\n",
      "Index(['Thursday', 'Thursday', 'Thursday', 'Thursday', 'Thursday', 'Thursday',\n",
      "       'Thursday', 'Thursday', 'Thursday', 'Thursday'],\n",
      "      dtype='object')\n",
      "All Coal Only Modified Gers list size: 86034\n",
      "whiskers:  [1.7690721649484535, 329.04742268041235]\n",
      "caps:  [1.7690721649484535, 329.04742268041235]\n",
      "boxes:  [45.995876288659794]\n",
      "medians:  [111.45154639175257]\n",
      "means:  [121.99377048276203]\n",
      "fliers:  []\n"
     ]
    },
    {
     "data": {
      "image/png": "[encoded data removed]",
      "text/plain": [
       "<Figure size 432x288 with 1 Axes>"
      ]
     },
     "metadata": {
      "needs_background": "light"
     },
     "output_type": "display_data"
    }
   ],
   "source": [
    "# all_coal_only_modified_gers - This is the working boxplot for all_coal_only_modified_gers only Mongolia deployed sensors\n",
    "# https://stackoverflow.com/questions/22800079/converting-time-zone-pandas-dataframe\n",
    "# https://pandas.pydata.org/pandas-docs/version/0.23.4/generated/pandas.DataFrame.between_time.html\n",
    "\n",
    "from IPython.core.debugger import set_trace \n",
    "# https://matplotlib.org/3.1.3/gallery/statistics/boxplot_color.html \n",
    "data = gold_data\n",
    "print(data.index[1])\n",
    "# data = data.tz_convert(None)\n",
    "# data.index = data.index.tz_localize('GMT')\n",
    "data.index = data.index.tz_convert('Asia/Ulaanbaatar')\n",
    "print(data.index[1])\n",
    "\n",
    "labels = ['All Coal Only Modified Gers']\n",
    "plt.xlabel('')\n",
    "plt.ylabel('PM 2.5 Value')\n",
    "plt.title('Week PM 2.5 for Coal Only Modified Gers Sensors')\n",
    "plt.grid(True)\n",
    "days = ['05', '06', '07', '08', '09', '10', '11']\n",
    "\n",
    "# Clean up data this way:\n",
    "data.loc[data['pm2_5'] > 1000, 'pm2_5'] = 1000\n",
    "data.loc[data['pm2_5'] < 0, 'pm2_5'] = 0\n",
    "# https://www.geeksforgeeks.org/create-a-new-column-in-pandas-dataframe-based-on-the-existing-columns/\n",
    "data['pm2_5'] = data['pm2_5'] / (1 + ((0.4/1.65)/(-1+(1/(35/100)))))\n",
    "data = data[data.location_name == 'Mongolia']\n",
    "\n",
    "coal_only_modified_gers = ['OH']\n",
    "data = data[(data.name == coal_only_modified_gers[0])]\n",
    "\n",
    "all_sensors_names = []\n",
    "for name, sensor_data in data.groupby(\"name\"):\n",
    "    all_sensors_names.append(name)\n",
    "print(\"All Sensors names:\", all_sensors_names)\n",
    "\n",
    "day_names = data.index.day_name()\n",
    "print(type(day_names))\n",
    "print(day_names[:10])\n",
    "\n",
    "all_coal_only_modified_gers = [data['pm2_5'].dropna()]\n",
    "print('{} list size: {}'.format(labels[0], len(data['pm2_5'])))\n",
    "results = plt.boxplot(all_coal_only_modified_gers, showfliers=False, labels=labels, showmeans=True, meanline=True)\n",
    "\n",
    "# print(results)\n",
    "print('whiskers: ', [item.get_ydata()[1] for item in results['whiskers']])\n",
    "print('caps: ', [item.get_ydata()[1] for item in results['caps']])\n",
    "print('boxes: ', [item.get_ydata()[1] for item in results['boxes']])\n",
    "print('medians: ', [item.get_ydata()[1] for item in results['medians']])\n",
    "print('means: ', [item.get_ydata()[1] for item in results['means']])\n",
    "print('fliers: ', [item.get_ydata()[1] for item in results['fliers']])\n",
    "\n",
    "data = gold_data"
   ]
  },
  {
   "cell_type": "code",
   "execution_count": 6,
   "metadata": {
    "scrolled": false
   },
   "outputs": [
    {
     "name": "stdout",
     "output_type": "stream",
     "text": [
      "2019-10-01 08:00:05+08:00\n",
      "2019-10-01 08:00:05+08:00\n",
      "All Sensors names: ['OH']\n",
      "<class 'pandas.core.indexes.base.Index'>\n",
      "Index(['Thursday', 'Thursday', 'Thursday', 'Thursday', 'Thursday', 'Thursday',\n",
      "       'Thursday', 'Thursday', 'Thursday', 'Thursday'],\n",
      "      dtype='object')\n",
      "Mon list size: 7692\n",
      "Tue list size: 6959\n",
      "Wed list size: 7200\n",
      "Thu list size: 7163\n",
      "Fri list size: 5900\n",
      "Sat list size: 6124\n",
      "Sun list size: 7189\n",
      "total for all days: 48227\n",
      "\n",
      "whiskers:  [2.3472122435965566, 311.39682431714317, 5.476828568391965, 312.17922839834205, 1.5648081623977041, 305.13759166755233, 7.824040811988522, 275.4062365819959, 4.694424487193113, 264.452579445212, 8.606444893187373, 261.3229631204166, 6.259232649590817, 249.58690190243382]\n",
      "caps:  [2.3472122435965566, 311.39682431714317, 5.476828568391965, 312.17922839834205, 1.5648081623977041, 305.13759166755233, 7.824040811988522, 275.4062365819959, 4.694424487193113, 264.452579445212, 8.606444893187373, 261.3229631204166, 6.259232649590817, 249.58690190243382]\n",
      "boxes:  [32.07856732915294, 71.98117547029439, 35.208183653948346, 39.12020405994261, 40.68501222234031, 30.513759166755236, 48.50905303432883]\n",
      "medians:  [93.1060856626634, 124.4022489106175, 90.75887341906686, 114.23099585503242, 94.6708938250611, 64.15713465830588, 98.58291423105537]\n",
      "means:  [105.99022213604027, 136.53766338286357, 104.56624077479009, 101.33317981258627, 106.83263590756054, 98.71067453170836, 100.86079953074822]\n",
      "fliers:  []\n"
     ]
    },
    {
     "data": {
      "image/png": "[encoded data removed]",
      "text/plain": [
       "<Figure size 432x288 with 1 Axes>"
      ]
     },
     "metadata": {
      "needs_background": "light"
     },
     "output_type": "display_data"
    }
   ],
   "source": [
    "# Day - This is the working boxplot for hybrid only Mongolia deployed sensors\n",
    "# https://stackoverflow.com/questions/22800079/converting-time-zone-pandas-dataframe\n",
    "# https://pandas.pydata.org/pandas-docs/version/0.23.4/generated/pandas.DataFrame.between_time.html\n",
    "\n",
    "from IPython.core.debugger import set_trace \n",
    "# https://matplotlib.org/3.1.3/gallery/statistics/boxplot_color.html \n",
    "data = gold_data\n",
    "print(data.index[1])\n",
    "# data = data.tz_convert(None)\n",
    "# data.index = data.index.tz_localize('GMT')\n",
    "data.index = data.index.tz_convert('Asia/Ulaanbaatar')\n",
    "print(data.index[1])\n",
    "\n",
    "labels = ['Mon', 'Tue', 'Wed', 'Thu', 'Fri', 'Sat', 'Sun']\n",
    "plt.xlabel('Dates')\n",
    "plt.ylabel('PM 2.5 Value')\n",
    "plt.title('Week PM 2.5 for sensors')\n",
    "plt.grid(True)\n",
    "days = ['05', '06', '07', '08', '09', '10', '11']\n",
    "\n",
    "# Clean up data this way:\n",
    "data.loc[data['pm2_5'] > 1000, 'pm2_5'] = 1000\n",
    "data.loc[data['pm2_5'] < 0, 'pm2_5'] = 0\n",
    "# https://www.geeksforgeeks.org/create-a-new-column-in-pandas-dataframe-based-on-the-existing-columns/\n",
    "data['pm2_5'] = data['pm2_5'] / (1 + ((0.4/1.65)/(-1+(1/(35/100)))))\n",
    "data = data[data.location_name == 'Mongolia']\n",
    "coal_only_modified_gers = ['OH']\n",
    "data = data[(data.name == coal_only_modified_gers[0])]\n",
    "\n",
    "all_sensors_names = []\n",
    "for name, sensor_data in data.groupby(\"name\"):\n",
    "    all_sensors_names.append(name)\n",
    "print(\"All Sensors names:\", all_sensors_names)\n",
    "\n",
    "day_names = data.index.day_name()\n",
    "print(type(day_names))\n",
    "print(day_names[:10])\n",
    "\n",
    "monday = data[(data.index.day_name() == 'Monday')]['pm2_5'].dropna()\n",
    "tuesday = data[data.index.day_name() == 'Tuesday']['pm2_5'].dropna()\n",
    "wednesday = data[data.index.day_name() == 'Wednesday']['pm2_5'].dropna()\n",
    "thursday = data[data.index.day_name() == 'Thursday']['pm2_5'].dropna()\n",
    "friday = data[data.index.day_name() == 'Friday']['pm2_5'].dropna()\n",
    "saturday = data[data.index.day_name() == 'Saturday']['pm2_5'].dropna()\n",
    "sunday = data[data.index.day_name() == 'Sunday']['pm2_5'].dropna()\n",
    "all_days = [monday, tuesday, wednesday, thursday, friday, saturday, sunday]\n",
    "\n",
    "results = plt.boxplot(all_days, showfliers=False, labels=labels, showmeans=True, meanline=True)\n",
    "\n",
    "i = 0\n",
    "cumulative = 0\n",
    "for day in all_days:\n",
    "    print('{} list size: {}'.format(labels[i], len(day)))\n",
    "    cumulative += len(day)\n",
    "    i+= 1\n",
    "print('total for all days: {}'.format(cumulative))\n",
    "print()\n",
    "\n",
    "# print(results)\n",
    "print('whiskers: ', [item.get_ydata()[1] for item in results['whiskers']])\n",
    "print('caps: ', [item.get_ydata()[1] for item in results['caps']])\n",
    "print('boxes: ', [item.get_ydata()[1] for item in results['boxes']])\n",
    "print('medians: ', [item.get_ydata()[1] for item in results['medians']])\n",
    "print('means: ', [item.get_ydata()[1] for item in results['means']])\n",
    "print('fliers: ', [item.get_ydata()[1] for item in results['fliers']])\n",
    "\n",
    "data = gold_data"
   ]
  },
  {
   "cell_type": "code",
   "execution_count": 7,
   "metadata": {},
   "outputs": [
    {
     "name": "stdout",
     "output_type": "stream",
     "text": [
      "2019-10-01 08:00:05+08:00\n",
      "2019-10-01 08:00:05+08:00\n",
      "All Sensors names: ['OH']\n",
      "<class 'pandas.core.indexes.base.Index'>\n",
      "Index(['Thursday', 'Thursday', 'Thursday', 'Thursday', 'Thursday', 'Thursday',\n",
      "       'Thursday', 'Thursday', 'Thursday', 'Thursday'],\n",
      "      dtype='object')\n",
      "Monday - OH list size: 12686\n",
      "Monday total: 12686\n",
      "\n",
      "whiskers:  [2.0761939226864388, 275.44172707640087]\n",
      "caps:  [2.0761939226864388, 275.44172707640087]\n",
      "boxes:  [28.37465027671466]\n",
      "medians:  [82.35569226656206]\n",
      "means:  [93.75217586878615]\n",
      "fliers:  []\n"
     ]
    },
    {
     "data": {
      "image/png": "[encoded data removed]",
      "text/plain": [
       "<Figure size 432x288 with 1 Axes>"
      ]
     },
     "metadata": {
      "needs_background": "light"
     },
     "output_type": "display_data"
    },
    {
     "name": "stdout",
     "output_type": "stream",
     "text": [
      "Tuesday - OH list size: 11900\n",
      "Tuesday total: 11900\n",
      "\n",
      "whiskers:  [4.844452486268357, 276.1337917172964]\n",
      "caps:  [4.844452486268357, 276.1337917172964]\n",
      "boxes:  [63.66994696238411]\n",
      "medians:  [110.03827790238125]\n",
      "means:  [120.77248987886283]\n",
      "fliers:  []\n"
     ]
    },
    {
     "data": {
      "image/png": "[encoded data removed]",
      "text/plain": [
       "<Figure size 432x288 with 1 Axes>"
      ]
     },
     "metadata": {
      "needs_background": "light"
     },
     "output_type": "display_data"
    },
    {
     "name": "stdout",
     "output_type": "stream",
     "text": [
      "Wednesday - OH list size: 11490\n",
      "Wednesday total: 11490\n",
      "\n",
      "whiskers:  [1.384129281790959, 269.905209949237]\n",
      "caps:  [1.384129281790959, 269.905209949237]\n",
      "boxes:  [31.142908840296577]\n",
      "medians:  [80.27949834387563]\n",
      "means:  [92.49261297398958]\n",
      "fliers:  []\n"
     ]
    },
    {
     "data": {
      "image/png": "[encoded data removed]",
      "text/plain": [
       "<Figure size 432x288 with 1 Axes>"
      ]
     },
     "metadata": {
      "needs_background": "light"
     },
     "output_type": "display_data"
    },
    {
     "name": "stdout",
     "output_type": "stream",
     "text": [
      "Thursday - OH list size: 12831\n",
      "Thursday total: 12831\n",
      "\n",
      "whiskers:  [6.920646408954796, 243.60675359520877]\n",
      "caps:  [6.920646408954796, 243.60675359520877]\n",
      "boxes:  [34.603232044773975]\n",
      "medians:  [101.04143757074002]\n",
      "means:  [89.63285389608146]\n",
      "fliers:  []\n"
     ]
    },
    {
     "data": {
      "image/png": "[encoded data removed]",
      "text/plain": [
       "<Figure size 432x288 with 1 Axes>"
      ]
     },
     "metadata": {
      "needs_background": "light"
     },
     "output_type": "display_data"
    },
    {
     "name": "stdout",
     "output_type": "stream",
     "text": [
      "Friday - OH list size: 12289\n",
      "Friday total: 12289\n",
      "\n",
      "whiskers:  [4.1523878453728775, 233.91784862267204]\n",
      "caps:  [4.1523878453728775, 233.91784862267204]\n",
      "boxes:  [35.98736132656494]\n",
      "medians:  [83.739821548353]\n",
      "means:  [94.497321246069]\n",
      "fliers:  []\n"
     ]
    },
    {
     "data": {
      "image/png": "[encoded data removed]",
      "text/plain": [
       "<Figure size 432x288 with 1 Axes>"
      ]
     },
     "metadata": {
      "needs_background": "light"
     },
     "output_type": "display_data"
    },
    {
     "name": "stdout",
     "output_type": "stream",
     "text": [
      "Saturday - OH list size: 11908\n",
      "Saturday total: 11908\n",
      "\n",
      "whiskers:  [7.612711049850274, 231.14959005909014]\n",
      "caps:  [7.612711049850274, 231.14959005909014]\n",
      "boxes:  [26.990520994923703]\n",
      "medians:  [56.74930055342932]\n",
      "means:  [87.31315334866572]\n",
      "fliers:  []\n"
     ]
    },
    {
     "data": {
      "image/png": "[encoded data removed]",
      "text/plain": [
       "<Figure size 432x288 with 1 Axes>"
      ]
     },
     "metadata": {
      "needs_background": "light"
     },
     "output_type": "display_data"
    },
    {
     "name": "stdout",
     "output_type": "stream",
     "text": [
      "Sunday - OH list size: 12930\n",
      "Sunday total: 12930\n",
      "\n",
      "whiskers:  [5.536517127163836, 220.76862044565794]\n",
      "caps:  [5.536517127163836, 220.76862044565794]\n",
      "boxes:  [42.908007735519725]\n",
      "medians:  [87.20014475283041]\n",
      "means:  [89.21501649214636]\n",
      "fliers:  []\n"
     ]
    },
    {
     "data": {
      "image/png": "[encoded data removed]",
      "text/plain": [
       "<Figure size 432x288 with 1 Axes>"
      ]
     },
     "metadata": {
      "needs_background": "light"
     },
     "output_type": "display_data"
    }
   ],
   "source": [
    "# Day each sensors - This is the working boxplot for hybrid only Mongolia deployed sensors\n",
    "# https://stackoverflow.com/questions/22800079/converting-time-zone-pandas-dataframe\n",
    "# https://pandas.pydata.org/pandas-docs/version/0.23.4/generated/pandas.DataFrame.between_time.html\n",
    "import numpy as np\n",
    "from IPython.core.debugger import set_trace \n",
    "# https://matplotlib.org/3.1.3/gallery/statistics/boxplot_color.html \n",
    "data = gold_data\n",
    "print(data.index[1])\n",
    "# data = data.tz_convert(None)\n",
    "# data.index = data.index.tz_localize('GMT')\n",
    "data.index = data.index.tz_convert('Asia/Ulaanbaatar')\n",
    "print(data.index[1])\n",
    "\n",
    "labels = ['AK', 'AL', 'AR', 'AZ', 'CA', 'CO', 'CT', 'DE', 'FL', 'IA', 'KS', 'KY', 'LA', 'MD', 'ME', 'MI', 'MN', 'MS', 'MT', 'NC', 'NH']\n",
    "plt.xlabel('Sensors')\n",
    "plt.ylabel('PM 2.5 Value')\n",
    "plt.title('Week PM 2.5 for sensors')\n",
    "plt.grid(True)\n",
    "days_of_week = ['Monday', 'Tuesday', 'Wednesday', 'Thursday', 'Friday', 'Saturday', 'Sunday']\n",
    "# Clean up data this way:\n",
    "data.loc[data['pm2_5'] > 1000, 'pm2_5'] = 1000\n",
    "data.loc[data['pm2_5'] < 0, 'pm2_5'] = 0\n",
    "# https://www.geeksforgeeks.org/create-a-new-column-in-pandas-dataframe-based-on-the-existing-columns/\n",
    "data['pm2_5'] = data['pm2_5'] / (1 + ((0.4/1.65)/(-1+(1/(35/100)))))\n",
    "data = data[data.location_name == 'Mongolia']\n",
    "coal_only_modified_gers = ['OH']\n",
    "data = data[(data.name == coal_only_modified_gers[0])]\n",
    "\n",
    "all_sensors_names = []\n",
    "for name, sensor_data in data.groupby(\"name\"):\n",
    "    all_sensors_names.append(name)\n",
    "print(\"All Sensors names:\", all_sensors_names)\n",
    "\n",
    "day_names = data.index.day_name()\n",
    "print(type(day_names))\n",
    "print(day_names[:10])\n",
    "\n",
    "\n",
    "# for name, sensor_data in data.groupby(\"name\"):\n",
    "for day in days_of_week:\n",
    "    plt.xlabel('Sensors for {0}'.format(day))\n",
    "    plt.ylabel('PM 2.5 Value')\n",
    "    plt.title('Week PM 2.5 for sensors for {0}'.format(day))\n",
    "    plt.grid(True)\n",
    "    sensors_data = list()\n",
    "    sensors_name = list()\n",
    "    temp = data[data.index.day_name() == day]\n",
    "    # temp = temp.groupby(\"name\")\n",
    "    cumulative = 0    \n",
    "    for name, sensor_data in temp.groupby(\"name\"):\n",
    "        sensors_name.append(name)\n",
    "        sensors_data.append(temp.groupby(\"name\").get_group(name)[\"pm2_5\"].dropna().to_numpy().tolist())\n",
    "        cumulative += len(sensor_data)\n",
    "        print('{} - {} list size: {}'.format(day, name,  len(sensor_data)))\n",
    "    print ('{} total: {}'.format(day, cumulative))    \n",
    "    print()        \n",
    "    results = plt.boxplot(sensors_data, showfliers=False, labels=sensors_name, showmeans=True, meanline=True)\n",
    "    print('whiskers: ', [item.get_ydata()[1] for item in results['whiskers']])\n",
    "    print('caps: ', [item.get_ydata()[1] for item in results['caps']])\n",
    "    print('boxes: ', [item.get_ydata()[1] for item in results['boxes']])\n",
    "    print('medians: ', [item.get_ydata()[1] for item in results['medians']])\n",
    "    print('means: ', [item.get_ydata()[1] for item in results['means']])\n",
    "    print('fliers: ', [item.get_ydata()[1] for item in results['fliers']])\n",
    "    plt.show()\n",
    "\n",
    "data = gold_data"
   ]
  },
  {
   "cell_type": "code",
   "execution_count": null,
   "metadata": {},
   "outputs": [],
   "source": []
  }
 ],
 "metadata": {
  "kernelspec": {
   "display_name": "Python 3",
   "language": "python",
   "name": "python3"
  },
  "language_info": {
   "codemirror_mode": {
    "name": "ipython",
    "version": 3
   },
   "file_extension": ".py",
   "mimetype": "text/x-python",
   "name": "python",
   "nbconvert_exporter": "python",
   "pygments_lexer": "ipython3",
   "version": "3.7.4"
  }
 },
 "nbformat": 4,
 "nbformat_minor": 2
}
